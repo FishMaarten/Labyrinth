{
 "cells": [
  {
   "cell_type": "markdown",
   "metadata": {},
   "source": [
    "# Labyrinth environment for RL-Agent training\n",
    "\n",
    "## *Aim: Explore the interactions and compatibility between gym, ray, rllib and mlagents*\n",
    "\n",
    "#### We will first create a 2D agent that is essentially a standard gridworld. (In hindsight it really wasn't!)\n",
    "#### Next we will create a physics based version in Unity implementing \"mlagents\""
   ]
  },
  {
   "cell_type": "markdown",
   "metadata": {},
   "source": [
    "![Reference](./resources/labyrinth.jpg)"
   ]
  },
  {
   "cell_type": "code",
   "execution_count": 1,
   "metadata": {},
   "outputs": [
    {
     "name": "stdout",
     "output_type": "stream",
     "text": [
      "WARNING:tensorflow:From /Users/fishm/opt/anaconda3/lib/python3.8/site-packages/tensorflow/python/compat/v2_compat.py:96: disable_resource_variables (from tensorflow.python.ops.variable_scope) is deprecated and will be removed in a future version.\n",
      "Instructions for updating:\n",
      "non-resource variables are not supported in the long term\n"
     ]
    }
   ],
   "source": [
    "import os\n",
    "import time\n",
    "\n",
    "import gym\n",
    "from gym import spaces\n",
    "\n",
    "import numpy as np\n",
    "import matplotlib.pyplot as plt\n",
    "\n",
    "from IPython.display import clear_output\n",
    "\n",
    "import ray\n",
    "from ray import tune\n",
    "from ray.tune.registry import register_env\n",
    "from ray.rllib import agents"
   ]
  },
  {
   "cell_type": "code",
   "execution_count": 2,
   "metadata": {},
   "outputs": [
    {
     "data": {
      "image/png": "[encoded data removed]",
      "text/plain": [
       "<Figure size 1008x792 with 4 Axes>"
      ]
     },
     "metadata": {
      "needs_background": "light"
     },
     "output_type": "display_data"
    }
   ],
   "source": [
    "raw_img = plt.imread(\"./resources/labyrinth_raw.png\")\n",
    "#raw_img = plt.imread(\"../labyrinth_small.png\")\n",
    "\n",
    "img = np.einsum(\"WHC->CWH\", raw_img)\n",
    "\n",
    "holes_raw = img[0]\n",
    "check_raw = img[1]\n",
    "walls_raw = img[2]\n",
    "\n",
    "fig, ax = plt.subplots(2,2, figsize=(14,11))\n",
    "ax = ax.flatten()\n",
    "[x.set_axis_off() for x in ax]\n",
    "ax1, ax2, ax3, ax4 = ax.flatten()\n",
    "\n",
    "fd = {\"size\": 21}\n",
    "ax1.imshow(walls_raw)\n",
    "ax1.text(.1,1.1, \"Impassable walls [B]\", fontdict=fd,\n",
    "         transform=ax1.transAxes)\n",
    "ax2.imshow(holes_raw)\n",
    "ax2.text(.1,1.1, \"Death traps [R]\", fontdict=fd,\n",
    "         transform=ax2.transAxes)\n",
    "ax3.imshow(check_raw)\n",
    "ax3.text(.1,1.1, \"Checkpoints [G]\", fontdict=fd,\n",
    "         transform=ax3.transAxes)\n",
    "ax4.imshow(raw_img)\n",
    "ax4.text(.1,1.1, \"Raw image [RGB]\", fontdict=fd,\n",
    "         transform=ax4.transAxes)\n",
    "\n",
    "plt.show()\n",
    "\n",
    "holes = list(zip(*np.where(holes_raw!=0)))\n",
    "walls = list(zip(*np.where(walls_raw!=0)))\n",
    "check = list(zip(*np.where(check_raw!=0)))\n",
    "start, finish = check"
   ]
  },
  {
   "cell_type": "code",
   "execution_count": 3,
   "metadata": {},
   "outputs": [],
   "source": [
    "class Labyrinth2D(gym.Env):\n",
    "    DEFAULT = {\n",
    "        \"map_arr\": plt.imread(\n",
    "            \"./resources/labyrinth_raw.png\"\n",
    "        ), \n",
    "        \"max_step\": None,\n",
    "        \"step_cost\": 0.1,\n",
    "        \"visit_scale\": 0.1,\n",
    "        \"perma_death\": True,\n",
    "        \"death_penalty\": -1,\n",
    "        \"victory_score\": 10,\n",
    "    }\n",
    "    \n",
    "    def __init__(self, config={}):        \n",
    "        super(Labyrinth2D, self).__init__()\n",
    "        self.config = self.DEFAULT.copy()\n",
    "        for k,v in config.items():\n",
    "            self.config[k] = v\n",
    "            \n",
    "        self.max_step =      self.config[\"max_step\"]\n",
    "        self.step_cost =     self.config[\"step_cost\"]\n",
    "        self.visit_scale =   self.config[\"visit_scale\"]\n",
    "        self.perma_death =   self.config[\"perma_death\"]\n",
    "        self.death_penalty = self.config[\"death_penalty\"]\n",
    "        self.victory_score = self.config[\"victory_score\"]\n",
    "        self.raw_img =       self.config[\"map_arr\"]\n",
    "        \n",
    "        self.height, self.width, _ = self.raw_img.shape\n",
    "        self.num_states = self.height * self.width\n",
    "        self.yx_states = set([(y, x) \n",
    "            for y in range(self.height) \n",
    "             for x in range(self.width)\n",
    "        ])\n",
    "        \n",
    "        self.img = np.einsum(\"WHC->CWH\", self.raw_img)\n",
    "        \n",
    "        self.action_dict = {\n",
    "            0: (0,1),  # Right\n",
    "            1: (1,0),  # Down\n",
    "            2: (0,-1), # Left\n",
    "            3: (-1,0)  # Up\n",
    "        }\n",
    "        self.world_dict = {\n",
    "            \"holes\": list(zip(*np.where(self.img[0]!=0))),\n",
    "            \"check\": list(zip(*np.where(self.img[1]!=0))),\n",
    "            \"walls\": list(zip(*np.where(self.img[2]!=0)))\n",
    "        }\n",
    "        \n",
    "        self.start, self.finish = self.world_dict[\"check\"]\n",
    "        \n",
    "        self.direction = lambda p, a: (p[0]+a[0], p[1]+a[1])\n",
    "        self.is_legal = lambda s: (s[0]>=0 and s[0]<self.height\n",
    "                                  ) and (\n",
    "                                   s[1]>=0 and s[1]<self.width)\n",
    "        \n",
    "        self.is_wall = lambda s: s in self.world_dict[\"walls\"]\n",
    "        self.is_hole = lambda s: s in self.world_dict[\"holes\"]\n",
    "        \n",
    "        self.action_space = spaces.Discrete(len(self.action_dict))\n",
    "        self.observation_space = spaces.Discrete(self.num_states)\n",
    "        \n",
    "        self.time = 0\n",
    "        self.state = None\n",
    "        self.done = False\n",
    "        self.visits = None\n",
    "        \n",
    "    def flatten_s(self, state):\n",
    "        return state[0] * self.width + state[1]\n",
    "    def expand_s(self, state):\n",
    "        return state // self.width, state % self.width\n",
    "    \n",
    "    def reset(self):        \n",
    "        self.time = 0\n",
    "        self.done = False\n",
    "        self.state = self.flatten_s(self.start)\n",
    "        self.visits = {state: 0 for state in self.yx_states}\n",
    "        return self.state   \n",
    "    \n",
    "    def step(self, action):    \n",
    "        self.time += 1\n",
    "        \n",
    "        state_yx = self.expand_s(self.state)\n",
    "        move = self.direction(state_yx, self.action_dict[action])\n",
    "        next_s = move if self.is_legal(move) and not self.is_wall(move) else state_yx\n",
    "        self.state = self.flatten_s(next_s)\n",
    "        self.visits[state_yx] += 1\n",
    "        \n",
    "        if self.max_step and self.time >= self.max_step:\n",
    "            count = sum(map(lambda f: f!=0, self.visits.values()))\n",
    "            reward = -1-(1-count/self.num_states)\n",
    "            return self.state, -1, True, {}\n",
    "        \n",
    "        if self.is_hole(next_s):\n",
    "            self.state = self.flatten_s(self.start)\n",
    "            reward = self.death_penalty - self.time\n",
    "            return self.flatten_s(next_s), self.death_penalty, self.perma_death, {}\n",
    "            \n",
    "        if next_s == self.finish:\n",
    "            return self.state, self.victory_score, True, {}\n",
    "        \n",
    "        reward = (self.step_cost*self.visit_scale \n",
    "                  if not self.visits[next_s] \n",
    "                  else -self.step_cost)\n",
    "        \n",
    "        return self.state, reward, False, {}"
   ]
  },
  {
   "cell_type": "markdown",
   "metadata": {},
   "source": [
    "# Random Agent"
   ]
  },
  {
   "cell_type": "code",
   "execution_count": 4,
   "metadata": {},
   "outputs": [
    {
     "name": "stdout",
     "output_type": "stream",
     "text": [
      "Last entry: [1 (7, 14) -1]\n",
      "Visited states: 43\n",
      "Total score: -22.18000000000002\n",
      "Total steps: 260\n"
     ]
    },
    {
     "data": {
      "image/png": "[encoded data removed]",
      "text/plain": [
       "<Figure size 432x288 with 1 Axes>"
      ]
     },
     "metadata": {
      "needs_background": "light"
     },
     "output_type": "display_data"
    }
   ],
   "source": [
    "env = Labyrinth2D()\n",
    "state = env.reset()\n",
    "history = [(-1, env.expand_s(state), 0)]\n",
    "\n",
    "done = False; i = 0\n",
    "while not done and i < 20000:\n",
    "    action = env.action_space.sample()\n",
    "    state, reward, done, info = env.step(action)\n",
    "    history.append((action, env.expand_s(state), reward))\n",
    "    \n",
    "    \n",
    "print(\"Last entry:\", np.array(history)[-1])\n",
    "print(\"Visited states:\", sum(map(lambda f: f!=0 ,env.visits.values())))\n",
    "print(\"Total score:\", sum(map(lambda m: m[2], history)))\n",
    "print(\"Total steps:\", len(history))\n",
    "\n",
    "plt.imshow(env.raw_img)\n",
    "plt.plot(*list(zip(*map(lambda m: reversed(m[1]), history))));"
   ]
  },
  {
   "cell_type": "markdown",
   "metadata": {},
   "source": [
    "# Sample episode"
   ]
  },
  {
   "cell_type": "code",
   "execution_count": 5,
   "metadata": {},
   "outputs": [],
   "source": [
    "def sample_episode(trainer: agents.Trainer, max_iter=20000, ax=None):\n",
    "    env = trainer.env_creator(trainer.config[\"env_config\"])\n",
    "    \n",
    "    state = env.reset()\n",
    "    history = [(-1, env.expand_s(state), 0)]\n",
    "    \n",
    "    done = False; i = 0\n",
    "    while not done and i < max_iter:\n",
    "        action = trainer.compute_action(state)\n",
    "        state, reward, done, info = env.step(action)\n",
    "        history.append((action, env.expand_s(state), reward))\n",
    "        i += 1\n",
    "        \n",
    "    print({\n",
    "        \"Sum score\": sum(map(lambda m: m[2], history)),\n",
    "        \"Min score\": min(map(lambda m: m[2], history)),\n",
    "        \"Max visit\": max(env.visits.values()),\n",
    "        \"Length\": len(history)\n",
    "    })\n",
    "    \n",
    "    if not ax: fig, ax = plt.subplots()\n",
    "    ax.imshow(env.raw_img)\n",
    "    ax.plot(*list(zip(*map(lambda m: reversed(m[1]), history))))\n",
    "    \n",
    "    _shape = (env.height, env.width)\n",
    "    ax.vlines(-.5,-.5,_shape[0]-.5, color=\"k\", lw=2)\n",
    "    ax.vlines(_shape[1]-.5,-.5,_shape[0]-.5, color=\"k\", lw=2)\n",
    "    ax.hlines(-.5,-.5,_shape[1]-.5, color=\"k\", lw=2)\n",
    "    ax.hlines(_shape[0]-.5,-.5,_shape[1]-.5, color=\"k\", lw=2)\n",
    "    \n",
    "    if 'fig' in locals(): plt.show()\n",
    "    return history"
   ]
  },
  {
   "cell_type": "markdown",
   "metadata": {},
   "source": [
    "# Trainer"
   ]
  },
  {
   "cell_type": "code",
   "execution_count": 6,
   "metadata": {
    "scrolled": false
   },
   "outputs": [
    {
     "name": "stdout",
     "output_type": "stream",
     "text": [
      "Session started... Thu Mar 11 13:33:20 2021\n",
      "{'Sum score': -1726.1099999995265, 'Min score': -1, 'Max visit': 1156, 'Length': 17593}\n"
     ]
    },
    {
     "data": {
      "image/png": "[encoded data removed]",
      "text/plain": [
       "<Figure size 432x288 with 1 Axes>"
      ]
     },
     "metadata": {
      "needs_background": "light"
     },
     "output_type": "display_data"
    },
    {
     "name": "stderr",
     "output_type": "stream",
     "text": [
      "2021-03-11 13:33:37,830\tWARNING deprecation.py:33 -- DeprecationWarning: `env_index` has been deprecated. Use `episode.env_id` instead. This will raise an error in the future!\n"
     ]
    },
    {
     "name": "stdout",
     "output_type": "stream",
     "text": [
      "502 {'Min:': -25.25, 'Mean:': -25.25, 'Max:': -25.25, 'Len:': 458.0}\n",
      "503 {'Min:': -25.25, 'Mean:': -25.25, 'Max:': -25.25, 'Len:': 458.0}\n",
      "504 {'Min:': -893.44, 'Mean:': -368.1, 'Max:': -25.25, 'Len:': 3954.0}\n",
      "505 {'Min:': -893.44, 'Mean:': -294.4, 'Max:': -25.25, 'Len:': 3230.2}\n",
      "506 {'Min:': -893.44, 'Mean:': -207.92, 'Max:': -14.13, 'Len:': 2353.0}\n",
      "507 {'Min:': -893.44, 'Mean:': -188.14, 'Max:': -14.13, 'Len:': 2161.64}\n",
      "{'Sum score': -37.86000000000025, 'Min score': -1, 'Max visit': 112, 'Length': 628}\n"
     ]
    },
    {
     "data": {
      "image/png": "[encoded data removed]",
      "text/plain": [
       "<Figure size 432x288 with 1 Axes>"
      ]
     },
     "metadata": {
      "needs_background": "light"
     },
     "output_type": "display_data"
    },
    {
     "name": "stdout",
     "output_type": "stream",
     "text": [
      "508 {'Min:': -893.44, 'Mean:': -113.03, 'Max:': -6.02, 'Len:': 1389.75}\n",
      "509 {'Min:': -893.44, 'Mean:': -81.69, 'Max:': -5.62, 'Len:': 1066.83}\n",
      "510 {'Min:': -893.44, 'Mean:': -60.87, 'Max:': -5.62, 'Len:': 852.09}\n",
      "511 {'Min:': -893.44, 'Mean:': -48.62, 'Max:': -3.32, 'Len:': 721.91}\n",
      "{'Sum score': -5.430000000000019, 'Min score': -1, 'Max visit': 24, 'Length': 252}\n"
     ]
    },
    {
     "data": {
      "image/png": "[encoded data removed]",
      "text/plain": [
       "<Figure size 432x288 with 1 Axes>"
      ]
     },
     "metadata": {
      "needs_background": "light"
     },
     "output_type": "display_data"
    },
    {
     "name": "stdout",
     "output_type": "stream",
     "text": [
      "Checkpoint saved at: Thu Mar 11 13:35:10 2021\n",
      " /Users/fishm/ray_results/PPO_Labyrinth2D_2021-03-11_13-33-19kng8c9g8/checkpoint_511/checkpoint-511\n"
     ]
    }
   ],
   "source": [
    "ray.shutdown(); ray.init()\n",
    "\n",
    "trainer = agents.ppo.PPOTrainer({\n",
    "    \"env\": Labyrinth2D,\n",
    "    \"env_config\": {\n",
    "        \"max_step\": None,\n",
    "        \"step_cost\": 0.1,\n",
    "        \"visit_scale\": 0.1,\n",
    "        \"perma_death\": True,\n",
    "        \"death_penalty\": -1,\n",
    "        \"victory_score\": 10\n",
    "    },\n",
    "    \n",
    "    \"lr\": 3e-5,\n",
    "    \"framework\": \"torch\",\n",
    "    \"num_workers\": 0,\n",
    "    \n",
    "    \"rollout_fragment_length\": 512,\n",
    "    \"train_batch_size\": 4096,\n",
    "    \n",
    "    \"num_sgd_iter\": 8,\n",
    "    \"vf_clip_param\": 10,\n",
    "    \n",
    "    \"exploration_config\": {\n",
    "        \"type\": \"Curiosity\",\n",
    "        \"eta\": 0.3,\n",
    "        \"lr\": 0.001,\n",
    "        \"feature_dim\": 288,\n",
    "        \"feature_net_config\": {\n",
    "            \"fcnet_hiddens\": [],\n",
    "            \"fcnet_activation\": \"relu\",\n",
    "        },\n",
    "        \"inverse_net_hiddens\": [256],\n",
    "        \"inverse_net_activation\": \"relu\",\n",
    "        \"forward_net_hiddens\": [256],\n",
    "        \"forward_net_activation\": \"relu\",\n",
    "        \"beta\": 0.2,\n",
    "        \"sub_exploration\": {\n",
    "            \"type\": \"StochasticSampling\",\n",
    "        }\n",
    "    }\n",
    "})\n",
    "\n",
    "trainer.restore(open(\"labyrinth_2D_500.cpt\", \"r\").read())\n",
    "\n",
    "clear_output(); print(\"Session started...\", time.ctime())\n",
    "sample_episode(trainer)\n",
    "\n",
    "for i in range(10):\n",
    "    results = trainer.train()\n",
    "    print(results[\"training_iteration\"], {\n",
    "        \"Min:\" :  round(results[\"episode_reward_min\"], 2),\n",
    "        \"Mean:\" : round(results[\"episode_reward_mean\"], 2),\n",
    "        \"Max:\" :  round(results[\"episode_reward_max\"], 2),\n",
    "        \"Len:\" :  round(results[\"episode_len_mean\"], 2),\n",
    "    })\n",
    "    \n",
    "    if i and i%5==0: sample_episode(trainer)\n",
    "    if i and i%100==0:\n",
    "        checkpoint = trainer.save()\n",
    "        print(f\"Checkpoint saved at: {time.ctime()}\\n\", checkpoint)\n",
    "        with open(f\"labyrinth_2D_{i}_F.cpt\", \"w\") as file:\n",
    "            file.write(checkpoint)\n",
    "    \n",
    "sample_episode(trainer)\n",
    "checkpoint = trainer.save()\n",
    "print(f\"Checkpoint saved at: {time.ctime()}\\n\", checkpoint)\n",
    "with open(\"labyrinth_2D.cpt\", \"w\") as file:\n",
    "    file.write(checkpoint)\n",
    "    \n",
    "ray.shutdown()"
   ]
  },
  {
   "cell_type": "markdown",
   "metadata": {},
   "source": [
    "### Above is clearly visualised how the new reward signal tackles the circling agent issue\n",
    "An equal reward/penalty depending on whether the state was previously visited resulted in a zero-sum value  \n",
    "The new reward signal scales down the step reward which helped the agent maintain a straight course"
   ]
  },
  {
   "cell_type": "code",
   "execution_count": 7,
   "metadata": {},
   "outputs": [
    {
     "name": "stdout",
     "output_type": "stream",
     "text": [
      "{'Sum score': -6.590000000000015, 'Min score': -1, 'Max visit': 8, 'Length': 268}\n",
      "{'Sum score': -14.199999999999989, 'Min score': -1, 'Max visit': 29, 'Length': 365}\n",
      "{'Sum score': -7.650000000000019, 'Min score': -1, 'Max visit': 17, 'Length': 294}\n",
      "{'Sum score': -4.90000000000003, 'Min score': -1, 'Max visit': 9, 'Length': 261}\n"
     ]
    },
    {
     "data": {
      "image/png": "[encoded data removed]",
      "text/plain": [
       "<Figure size 1008x720 with 4 Axes>"
      ]
     },
     "metadata": {
      "needs_background": "light"
     },
     "output_type": "display_data"
    }
   ],
   "source": [
    "fig, ax = plt.subplots(2,2, figsize=(14,10))\n",
    "for x in ax.flatten():\n",
    "    x.set_axis_off()\n",
    "    sample_episode(trainer, ax=x);"
   ]
  }
 ],
 "metadata": {
  "kernelspec": {
   "display_name": "Python 3",
   "language": "python",
   "name": "python3"
  },
  "language_info": {
   "codemirror_mode": {
    "name": "ipython",
    "version": 3
   },
   "file_extension": ".py",
   "mimetype": "text/x-python",
   "name": "python",
   "nbconvert_exporter": "python",
   "pygments_lexer": "ipython3",
   "version": "3.8.5"
  }
 },
 "nbformat": 4,
 "nbformat_minor": 4
}
